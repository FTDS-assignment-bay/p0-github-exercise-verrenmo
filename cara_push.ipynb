{
 "cells": [
  {
   "cell_type": "markdown",
   "metadata": {},
   "source": [
    "\n",
    "# Cara Clone Repository"
   ]
  },
  {
   "cell_type": "markdown",
   "metadata": {},
   "source": [
    "Ada 2 cara untuk clone :\n",
    "- melalui https (flexible, bisa berbagai device)\n",
    "- melalui ssh (secure kalau yg pakai device kita aja ) (perlu setup)\n",
    "\n",
    "Cara Clone:\n",
    "\n",
    "- `git clone <url repository>`\n",
    "- akan berbeda urlnya untuk ssh dan https tapi caranya sama\n"
   ]
  },
  {
   "cell_type": "markdown",
   "metadata": {},
   "source": [
    "Untuk sinkronisasi dari repository ke local, gunakan   `git pull`"
   ]
  },
  {
   "cell_type": "markdown",
   "metadata": {},
   "source": [
    "# Cara add Perubahan Local ke Repository\n",
    "1. Untuk cek status repository gunakan `git status`\n",
    "2. lakukan `git add <name file> bisa diganti dengan . untuk representasi semua file. file masuk ke staging\n",
    "3. untuk commit hasil staging gunakan `git commit -m \"masukkan message commitnya\"` message commit biasanya berupa apa yang berubah atau di tambahkan\n",
    "4. untuk sinkroniasasi ke repository dari local, gunakan git push"
   ]
  },
  {
   "cell_type": "markdown",
   "metadata": {},
   "source": []
  },
  {
   "cell_type": "markdown",
   "metadata": {},
   "source": []
  }
 ],
 "metadata": {
  "language_info": {
   "name": "python"
  }
 },
 "nbformat": 4,
 "nbformat_minor": 2
}
