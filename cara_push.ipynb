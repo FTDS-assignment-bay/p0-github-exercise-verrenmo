{
 "cells": [
  {
   "cell_type": "markdown",
   "metadata": {},
   "source": [
    "\n",
    "# Cara Clone Repository"
   ]
  },
  {
   "cell_type": "markdown",
   "metadata": {},
   "source": [
    "Ada 2 cara untuk clone :\n",
    "- melalui https (flexible, bisa berbagai device)\n",
    "- melalui ssh (secure kalau yg pakai device kita aja ) (perlu setup)\n",
    "\n",
    "Cara Clone:\n",
    "\n",
    "- `git clone <url repository>`\n",
    "- akan berbeda urlnya untuk ssh dan https tapi caranya sama\n"
   ]
  },
  {
   "cell_type": "markdown",
   "metadata": {},
   "source": [
    "# Cara add Perubahan Local ke Repository\n",
    "1. Untuk cek status repository gunakan `git status`\n",
    "2. lakukan `git add <name>"
   ]
  },
  {
   "cell_type": "markdown",
   "metadata": {},
   "source": []
  }
 ],
 "metadata": {
  "language_info": {
   "name": "python"
  }
 },
 "nbformat": 4,
 "nbformat_minor": 2
}
